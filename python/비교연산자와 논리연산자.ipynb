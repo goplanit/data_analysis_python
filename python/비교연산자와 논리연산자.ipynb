{
  "cells": [
    {
      "cell_type": "markdown",
      "metadata": {
        "colab_type": "text",
        "id": "mkSnBW98EIs-"
      },
      "source": [
        "## 1. 비교연산자"
      ]
    },
    {
      "cell_type": "markdown",
      "metadata": {
        "colab_type": "text",
        "id": "ngUCWVY_EsY0"
      },
      "source": [
        "비교 연산자는 주로 대소비교를 할 때 사용합니다."
      ]
    },
    {
      "cell_type": "markdown",
      "metadata": {
        "colab_type": "text",
        "id": "HEG6iuONEswX"
      },
      "source": [
        "### 1-1. 대소비교 >, >=, <, <="
      ]
    },
    {
      "cell_type": "code",
      "execution_count": null,
      "metadata": {
        "colab": {
          "base_uri": "https://localhost:8080/"
        },
        "colab_type": "code",
        "id": "wiLgE47fEs1S",
        "outputId": "585b7cab-7d4a-465c-b2c5-fc3a455c6f64"
      },
      "outputs": [
        {
          "data": {
            "text/plain": [
              "False"
            ]
          },
          "execution_count": 1,
          "metadata": {
            "tags": []
          },
          "output_type": "execute_result"
        }
      ],
      "source": [
        "1 > 2"
      ]
    },
    {
      "cell_type": "code",
      "execution_count": null,
      "metadata": {
        "colab": {
          "base_uri": "https://localhost:8080/"
        },
        "colab_type": "code",
        "id": "0b6l023CEs5o",
        "outputId": "2f8f6963-6dd2-41b7-b9ff-5a10590f29a7"
      },
      "outputs": [
        {
          "data": {
            "text/plain": [
              "True"
            ]
          },
          "execution_count": 2,
          "metadata": {
            "tags": []
          },
          "output_type": "execute_result"
        }
      ],
      "source": [
        "10 >= 10"
      ]
    },
    {
      "cell_type": "code",
      "execution_count": null,
      "metadata": {
        "colab": {
          "base_uri": "https://localhost:8080/"
        },
        "colab_type": "code",
        "id": "3TTqQvmJEs91",
        "outputId": "89ad1ed4-dbe9-46ac-d4e7-071d8445708f"
      },
      "outputs": [
        {
          "data": {
            "text/plain": [
              "True"
            ]
          },
          "execution_count": 3,
          "metadata": {
            "tags": []
          },
          "output_type": "execute_result"
        }
      ],
      "source": [
        "9 < 10"
      ]
    },
    {
      "cell_type": "code",
      "execution_count": null,
      "metadata": {
        "colab": {
          "base_uri": "https://localhost:8080/"
        },
        "colab_type": "code",
        "id": "llirdNcSEtE5",
        "outputId": "35043948-34c4-438d-8ade-b1bc62492ff8"
      },
      "outputs": [
        {
          "data": {
            "text/plain": [
              "False"
            ]
          },
          "execution_count": 4,
          "metadata": {
            "tags": []
          },
          "output_type": "execute_result"
        }
      ],
      "source": [
        "8 <= 7"
      ]
    },
    {
      "cell_type": "markdown",
      "metadata": {
        "colab_type": "text",
        "id": "YnFEo5W4FBQV"
      },
      "source": [
        "### 1-2. 같다 =="
      ]
    },
    {
      "cell_type": "markdown",
      "metadata": {
        "colab_type": "text",
        "id": "c9JH4zBNFBGf"
      },
      "source": [
        "=는 대입 연산자 입니다. 코딩에서는 = 이 대입 연산자로 사용되기 때문에 ==을 사용하고 있습니다."
      ]
    },
    {
      "cell_type": "code",
      "execution_count": null,
      "metadata": {
        "colab": {
          "base_uri": "https://localhost:8080/",
          "height": 136
        },
        "colab_type": "code",
        "id": "g0FqYbH0FPsZ",
        "outputId": "a75489ef-6017-40f0-840e-f3ee83de69d9"
      },
      "outputs": [
        {
          "ename": "SyntaxError",
          "evalue": "ignored",
          "output_type": "error",
          "traceback": [
            "\u001b[0;36m  File \u001b[0;32m\"<ipython-input-5-a8e553549e25>\"\u001b[0;36m, line \u001b[0;32m1\u001b[0m\n\u001b[0;31m    2 = 2\u001b[0m\n\u001b[0m         ^\u001b[0m\n\u001b[0;31mSyntaxError\u001b[0m\u001b[0;31m:\u001b[0m can't assign to literal\n"
          ]
        }
      ],
      "source": [
        "2 = 2"
      ]
    },
    {
      "cell_type": "code",
      "execution_count": null,
      "metadata": {
        "colab": {},
        "colab_type": "code",
        "id": "lCnEQx-KFA_R"
      },
      "outputs": [],
      "source": [
        "2 == 2"
      ]
    },
    {
      "cell_type": "code",
      "execution_count": null,
      "metadata": {
        "colab": {},
        "colab_type": "code",
        "id": "uu38fqhwOv_t"
      },
      "outputs": [],
      "source": [
        "2 == 3"
      ]
    },
    {
      "cell_type": "markdown",
      "metadata": {
        "colab_type": "text",
        "id": "J8S0jzfGFKLz"
      },
      "source": [
        "### 1-3. 같지 않다 !="
      ]
    },
    {
      "cell_type": "code",
      "execution_count": 1,
      "metadata": {
        "colab": {},
        "colab_type": "code",
        "id": "FN2gAfWMFKRy"
      },
      "outputs": [
        {
          "data": {
            "text/plain": [
              "False"
            ]
          },
          "execution_count": 1,
          "metadata": {},
          "output_type": "execute_result"
        }
      ],
      "source": [
        "2 != 2"
      ]
    },
    {
      "cell_type": "code",
      "execution_count": null,
      "metadata": {
        "colab": {},
        "colab_type": "code",
        "id": "FVrNPEq7FKZk"
      },
      "outputs": [],
      "source": [
        "1 != 2"
      ]
    },
    {
      "cell_type": "code",
      "execution_count": 2,
      "metadata": {
        "colab": {},
        "colab_type": "code",
        "id": "cjB7v1JiFc78"
      },
      "outputs": [
        {
          "data": {
            "text/plain": [
              "True"
            ]
          },
          "execution_count": 2,
          "metadata": {},
          "output_type": "execute_result"
        }
      ],
      "source": [
        "'나' != '너'"
      ]
    },
    {
      "cell_type": "code",
      "execution_count": null,
      "metadata": {
        "colab": {},
        "colab_type": "code",
        "id": "7b47rVKRFcuZ"
      },
      "outputs": [],
      "source": [
        "'나' != '나'"
      ]
    },
    {
      "cell_type": "code",
      "execution_count": null,
      "metadata": {
        "colab": {},
        "colab_type": "code",
        "id": "c7t0aeRCFub3"
      },
      "outputs": [],
      "source": []
    },
    {
      "cell_type": "code",
      "execution_count": null,
      "metadata": {
        "colab": {},
        "colab_type": "code",
        "id": "65u9ItncFupa"
      },
      "outputs": [],
      "source": []
    },
    {
      "cell_type": "markdown",
      "metadata": {
        "colab_type": "text",
        "id": "nVJ1deTbACiP"
      },
      "source": [
        "## 2. 조건문\n"
      ]
    },
    {
      "cell_type": "markdown",
      "metadata": {
        "colab_type": "text",
        "id": "DUrQsRomElox"
      },
      "source": [
        "조건문이란 무엇일까요?\n",
        "\n",
        "주어진 조건이 **참**인 경우 그 다음 내가 정한 규칙(로직)을 실행하는 개념입니다."
      ]
    },
    {
      "cell_type": "markdown",
      "metadata": {
        "colab_type": "text",
        "id": "eyntgHbrAJW2"
      },
      "source": [
        "### 2-1. if"
      ]
    },
    {
      "cell_type": "markdown",
      "metadata": {
        "colab_type": "text",
        "id": "Nq6CmuoYALrr"
      },
      "source": [
        "if는 어떤 조건이 성립한다면~ 이라는 뜻입니다."
      ]
    },
    {
      "cell_type": "markdown",
      "metadata": {
        "colab_type": "text",
        "id": "x2CRKxQoAeOR"
      },
      "source": [
        "if 구문 끝에는 반드시 콜론(:)을 잊지 말아 주세요"
      ]
    },
    {
      "cell_type": "code",
      "execution_count": null,
      "metadata": {
        "colab": {},
        "colab_type": "code",
        "id": "tNkI-ROGAPPz"
      },
      "outputs": [],
      "source": [
        "if 5 > 3:\n",
        "    print('참')"
      ]
    },
    {
      "cell_type": "code",
      "execution_count": null,
      "metadata": {
        "colab": {},
        "colab_type": "code",
        "id": "udUZJO19Ngk3"
      },
      "outputs": [],
      "source": [
        "if 5 < 3:\n",
        "    print('참')\n",
        "    print('참')\n",
        "    print('참')\n",
        "    print('참')\n",
        "\n",
        "print('끝')"
      ]
    },
    {
      "cell_type": "code",
      "execution_count": null,
      "metadata": {
        "colab": {},
        "colab_type": "code",
        "id": "BIBsVKLRAUus"
      },
      "outputs": [],
      "source": [
        "if 5 < 3:\n",
        "    print('참')"
      ]
    },
    {
      "cell_type": "markdown",
      "metadata": {
        "colab_type": "text",
        "id": "hHaWa7DPAXRo"
      },
      "source": []
    },
    {
      "cell_type": "markdown",
      "metadata": {
        "colab_type": "text",
        "id": "vTqQGfv5Ac4a"
      },
      "source": [
        "### 2-2. else"
      ]
    },
    {
      "cell_type": "markdown",
      "metadata": {
        "colab_type": "text",
        "id": "EzJHdesGAjTQ"
      },
      "source": [
        "else는 if 조건 후에 따라오며, if 가 아닌 경우에 실행 됩니다."
      ]
    },
    {
      "cell_type": "code",
      "execution_count": 3,
      "metadata": {
        "colab": {},
        "colab_type": "code",
        "id": "DsGowvtQAq6B"
      },
      "outputs": [
        {
          "name": "stdout",
          "output_type": "stream",
          "text": [
            "else 구문 실행\n"
          ]
        }
      ],
      "source": [
        "if 5 < 3:\n",
        "    print('if 구문 실행')\n",
        "else:\n",
        "    print('else 구문 실행')"
      ]
    },
    {
      "cell_type": "markdown",
      "metadata": {
        "colab_type": "text",
        "id": "RIHTuYU7DJm2"
      },
      "source": [
        "하지만, else 만 단독으로 실행한다면?"
      ]
    },
    {
      "cell_type": "code",
      "execution_count": null,
      "metadata": {
        "colab": {},
        "colab_type": "code",
        "id": "9I834w_8DOBx"
      },
      "outputs": [],
      "source": [
        "else:\n",
        "    print('else 구문 실행')"
      ]
    },
    {
      "cell_type": "markdown",
      "metadata": {
        "colab_type": "text",
        "id": "YRckrfc3DSsM"
      },
      "source": [
        "### 2-3. elif"
      ]
    },
    {
      "cell_type": "markdown",
      "metadata": {
        "colab_type": "text",
        "id": "LS8DofkNDWUS"
      },
      "source": [
        "elif 구문은 3가지 이상 분기 (조건)의 동작을 수행할 때 사용합니다.\n"
      ]
    },
    {
      "cell_type": "code",
      "execution_count": null,
      "metadata": {
        "colab": {},
        "colab_type": "code",
        "id": "j6-32b6TDeNM"
      },
      "outputs": [],
      "source": [
        "if 3 > 5:\n",
        "    print('if 구문')\n",
        "elif 3 < 4:\n",
        "    print('elif 구문')\n",
        "else:\n",
        "    print('이것도 저것도 아니다')"
      ]
    },
    {
      "cell_type": "markdown",
      "metadata": {
        "colab_type": "text",
        "id": "kj9j--pEDzum"
      },
      "source": [
        "그럼, **elif 구문이 참인 여러 구문**을 나열 했을 때는 어떻게 될까요?\n",
        "\n",
        "한 번 고민해보고 실행하세요"
      ]
    },
    {
      "cell_type": "code",
      "execution_count": null,
      "metadata": {
        "colab": {},
        "colab_type": "code",
        "id": "CoA1nNx4DttN"
      },
      "outputs": [],
      "source": [
        "if 3 > 5:\n",
        "    print('if 구문')\n",
        "elif 3 > 4:\n",
        "    print('elif 1 구문')\n",
        "elif 3 > 5:\n",
        "    print('elif 2 구문')\n",
        "elif 3 < 6:\n",
        "    print('elif 3 구문')\n",
        "else:\n",
        "    print('이것도 저것도 아니다')"
      ]
    },
    {
      "cell_type": "code",
      "execution_count": null,
      "metadata": {
        "colab": {},
        "colab_type": "code",
        "id": "o36zVai0D998"
      },
      "outputs": [],
      "source": []
    },
    {
      "cell_type": "markdown",
      "metadata": {
        "colab_type": "text",
        "id": "IH3OU9JEGL2C"
      },
      "source": [
        "### 2-4. 1 이나 0은 참 이나 거짓을 표현하기도 합니다."
      ]
    },
    {
      "cell_type": "code",
      "execution_count": null,
      "metadata": {
        "colab": {},
        "colab_type": "code",
        "id": "QvLPbzLSGLqz"
      },
      "outputs": [],
      "source": [
        "if 1:\n",
        "    print('참')\n",
        "else:\n",
        "    print('거짓')"
      ]
    },
    {
      "cell_type": "code",
      "execution_count": null,
      "metadata": {
        "colab": {},
        "colab_type": "code",
        "id": "nZaec2FMGV36"
      },
      "outputs": [],
      "source": [
        "if 0:\n",
        "    print('참')\n",
        "else:\n",
        "    print('거짓')"
      ]
    },
    {
      "cell_type": "code",
      "execution_count": null,
      "metadata": {
        "colab": {},
        "colab_type": "code",
        "id": "Cqjzg5S5GVwx"
      },
      "outputs": [],
      "source": []
    },
    {
      "cell_type": "markdown",
      "metadata": {
        "colab_type": "text",
        "id": "UkBFrQ99EIlN"
      },
      "source": [
        "## 3. 논리 연산자 (and, or)"
      ]
    },
    {
      "cell_type": "markdown",
      "metadata": {
        "colab_type": "text",
        "id": "JArIvFX7F4xv"
      },
      "source": [
        "**and**나 **or** 조건은 두 가지 이상 조건을 다룰 때 활용합니다."
      ]
    },
    {
      "cell_type": "markdown",
      "metadata": {
        "colab_type": "text",
        "id": "1r39VMGsF_e4"
      },
      "source": [
        "### 3-1. and "
      ]
    },
    {
      "cell_type": "markdown",
      "metadata": {
        "colab_type": "text",
        "id": "Rpmwyz4UGbHf"
      },
      "source": [
        "and 조건은 **모두 만족**할 때 참으로 인식합니다."
      ]
    },
    {
      "cell_type": "code",
      "execution_count": null,
      "metadata": {
        "colab": {},
        "colab_type": "code",
        "id": "BMup-Y9VGGts"
      },
      "outputs": [],
      "source": [
        "True and True and True"
      ]
    },
    {
      "cell_type": "code",
      "execution_count": null,
      "metadata": {
        "colab": {},
        "colab_type": "code",
        "id": "SVDUfdmLGIXm"
      },
      "outputs": [],
      "source": [
        "True and False and True"
      ]
    },
    {
      "cell_type": "code",
      "execution_count": null,
      "metadata": {
        "colab": {},
        "colab_type": "code",
        "id": "1ZjfDRh3GJwz"
      },
      "outputs": [],
      "source": [
        "if (0 < 1) and (0 < 2):\n",
        "    print('모두 참')\n",
        "else:\n",
        "    print('거짓')"
      ]
    },
    {
      "cell_type": "code",
      "execution_count": null,
      "metadata": {
        "colab": {},
        "colab_type": "code",
        "id": "cuHoVgi5GvVy"
      },
      "outputs": [],
      "source": [
        "if (0 < 1) and (0 > 2):\n",
        "    print('모두 참')\n",
        "else:\n",
        "    print('허참')"
      ]
    },
    {
      "cell_type": "markdown",
      "metadata": {
        "colab_type": "text",
        "id": "LpFTEajiGxRN"
      },
      "source": [
        "### 3-2. or"
      ]
    },
    {
      "cell_type": "markdown",
      "metadata": {
        "colab_type": "text",
        "id": "m9CzrDMhG1SM"
      },
      "source": [
        "or 조건은 조건 중 **하나라도 만족**할 때 참으로 인식합니다."
      ]
    },
    {
      "cell_type": "code",
      "execution_count": null,
      "metadata": {
        "colab": {},
        "colab_type": "code",
        "id": "kQnJHHiHG7MI"
      },
      "outputs": [],
      "source": [
        "True or False or False"
      ]
    },
    {
      "cell_type": "code",
      "execution_count": null,
      "metadata": {
        "colab": {},
        "colab_type": "code",
        "id": "jEH3pQIDG9ls"
      },
      "outputs": [],
      "source": [
        "False or False or False"
      ]
    },
    {
      "cell_type": "code",
      "execution_count": 4,
      "metadata": {
        "colab": {},
        "colab_type": "code",
        "id": "pCiPRf0FHBhx"
      },
      "outputs": [
        {
          "name": "stdout",
          "output_type": "stream",
          "text": [
            "하나라도 참\n"
          ]
        }
      ],
      "source": [
        "if (0 < 1) or ( 1 < 0):\n",
        "    print('하나라도 참')\n",
        "else:\n",
        "    print('허참')"
      ]
    },
    {
      "cell_type": "code",
      "execution_count": null,
      "metadata": {
        "colab": {},
        "colab_type": "code",
        "id": "IXQSEQYjHKRz"
      },
      "outputs": [],
      "source": [
        "if (10 < 1) or ( 1 < 0):\n",
        "    print('하나라도 참')\n",
        "else:\n",
        "    print('허참')"
      ]
    },
    {
      "cell_type": "code",
      "execution_count": null,
      "metadata": {
        "colab": {},
        "colab_type": "code",
        "id": "EkZDbawAHOAN"
      },
      "outputs": [],
      "source": []
    }
  ],
  "metadata": {
    "colab": {
      "collapsed_sections": [],
      "name": "ch02-part05-논리연산자와 조건문-해설",
      "provenance": []
    },
    "kernelspec": {
      "display_name": "Python 3",
      "name": "python3"
    },
    "language_info": {
      "codemirror_mode": {
        "name": "ipython",
        "version": 3
      },
      "file_extension": ".py",
      "mimetype": "text/x-python",
      "name": "python",
      "nbconvert_exporter": "python",
      "pygments_lexer": "ipython3",
      "version": "3.8.5"
    }
  },
  "nbformat": 4,
  "nbformat_minor": 0
}
