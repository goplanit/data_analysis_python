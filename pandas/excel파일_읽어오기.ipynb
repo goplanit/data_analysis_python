{
  "cells": [
    {
      "cell_type": "code",
      "execution_count": 2,
      "metadata": {
        "colab": {},
        "colab_type": "code",
        "id": "LPcPdO-pvkZv"
      },
      "outputs": [],
      "source": [
        "import pandas as pd"
      ]
    },
    {
      "cell_type": "markdown",
      "metadata": {
        "colab_type": "text",
        "id": "nSR7kWjgwrmp"
      },
      "source": [
        "## 실습에 사용할 다운로드 주소"
      ]
    },
    {
      "cell_type": "markdown",
      "metadata": {
        "colab_type": "text",
        "id": "KAfGMG3Xwvqk"
      },
      "source": [
        "[국내 아이돌 브랜드 평판 (excel)](http://bit.ly/ds-korean-idol-excel)"
      ]
    },
    {
      "cell_type": "markdown",
      "metadata": {},
      "source": []
    },
    {
      "cell_type": "code",
      "execution_count": 4,
      "metadata": {},
      "outputs": [
        {
          "data": {
            "text/html": [
              "<div>\n",
              "<style scoped>\n",
              "    .dataframe tbody tr th:only-of-type {\n",
              "        vertical-align: middle;\n",
              "    }\n",
              "\n",
              "    .dataframe tbody tr th {\n",
              "        vertical-align: top;\n",
              "    }\n",
              "\n",
              "    .dataframe thead th {\n",
              "        text-align: right;\n",
              "    }\n",
              "</style>\n",
              "<table border=\"1\" class=\"dataframe\">\n",
              "  <thead>\n",
              "    <tr style=\"text-align: right;\">\n",
              "      <th></th>\n",
              "      <th>이름</th>\n",
              "      <th>그룹</th>\n",
              "      <th>소속사</th>\n",
              "      <th>성별</th>\n",
              "      <th>생년월일</th>\n",
              "      <th>키</th>\n",
              "      <th>혈액형</th>\n",
              "      <th>브랜드평판지수</th>\n",
              "    </tr>\n",
              "  </thead>\n",
              "  <tbody>\n",
              "    <tr>\n",
              "      <th>0</th>\n",
              "      <td>지민</td>\n",
              "      <td>방탄소년단</td>\n",
              "      <td>빅히트</td>\n",
              "      <td>남자</td>\n",
              "      <td>1995-10-13</td>\n",
              "      <td>173.6</td>\n",
              "      <td>A</td>\n",
              "      <td>10523260</td>\n",
              "    </tr>\n",
              "    <tr>\n",
              "      <th>1</th>\n",
              "      <td>지드래곤</td>\n",
              "      <td>빅뱅</td>\n",
              "      <td>YG</td>\n",
              "      <td>남자</td>\n",
              "      <td>1988-08-18</td>\n",
              "      <td>177.0</td>\n",
              "      <td>A</td>\n",
              "      <td>9916947</td>\n",
              "    </tr>\n",
              "    <tr>\n",
              "      <th>2</th>\n",
              "      <td>강다니엘</td>\n",
              "      <td>NaN</td>\n",
              "      <td>커넥트</td>\n",
              "      <td>남자</td>\n",
              "      <td>1996-12-10</td>\n",
              "      <td>180.0</td>\n",
              "      <td>A</td>\n",
              "      <td>8273745</td>\n",
              "    </tr>\n",
              "    <tr>\n",
              "      <th>3</th>\n",
              "      <td>뷔</td>\n",
              "      <td>방탄소년단</td>\n",
              "      <td>빅히트</td>\n",
              "      <td>남자</td>\n",
              "      <td>1995-12-30</td>\n",
              "      <td>178.0</td>\n",
              "      <td>AB</td>\n",
              "      <td>8073501</td>\n",
              "    </tr>\n",
              "    <tr>\n",
              "      <th>4</th>\n",
              "      <td>화사</td>\n",
              "      <td>마마무</td>\n",
              "      <td>RBW</td>\n",
              "      <td>여자</td>\n",
              "      <td>1995-07-23</td>\n",
              "      <td>162.1</td>\n",
              "      <td>A</td>\n",
              "      <td>7650928</td>\n",
              "    </tr>\n",
              "    <tr>\n",
              "      <th>5</th>\n",
              "      <td>정국</td>\n",
              "      <td>방탄소년단</td>\n",
              "      <td>빅히트</td>\n",
              "      <td>남자</td>\n",
              "      <td>1997-09-01</td>\n",
              "      <td>178.0</td>\n",
              "      <td>A</td>\n",
              "      <td>5208335</td>\n",
              "    </tr>\n",
              "    <tr>\n",
              "      <th>6</th>\n",
              "      <td>민현</td>\n",
              "      <td>뉴이스트</td>\n",
              "      <td>플레디스</td>\n",
              "      <td>남자</td>\n",
              "      <td>1995-08-09</td>\n",
              "      <td>182.3</td>\n",
              "      <td>O</td>\n",
              "      <td>4989792</td>\n",
              "    </tr>\n",
              "    <tr>\n",
              "      <th>7</th>\n",
              "      <td>소연</td>\n",
              "      <td>아이들</td>\n",
              "      <td>큐브</td>\n",
              "      <td>여자</td>\n",
              "      <td>1998-08-26</td>\n",
              "      <td>NaN</td>\n",
              "      <td>B</td>\n",
              "      <td>4668615</td>\n",
              "    </tr>\n",
              "    <tr>\n",
              "      <th>8</th>\n",
              "      <td>진</td>\n",
              "      <td>방탄소년단</td>\n",
              "      <td>빅히트</td>\n",
              "      <td>남자</td>\n",
              "      <td>1992-12-04</td>\n",
              "      <td>179.2</td>\n",
              "      <td>O</td>\n",
              "      <td>4570308</td>\n",
              "    </tr>\n",
              "    <tr>\n",
              "      <th>9</th>\n",
              "      <td>하성운</td>\n",
              "      <td>핫샷</td>\n",
              "      <td>스타크루이엔티</td>\n",
              "      <td>남자</td>\n",
              "      <td>1994-03-22</td>\n",
              "      <td>167.1</td>\n",
              "      <td>A</td>\n",
              "      <td>4036489</td>\n",
              "    </tr>\n",
              "    <tr>\n",
              "      <th>10</th>\n",
              "      <td>태연</td>\n",
              "      <td>소녀시대</td>\n",
              "      <td>SM</td>\n",
              "      <td>여자</td>\n",
              "      <td>1989-03-09</td>\n",
              "      <td>NaN</td>\n",
              "      <td>A</td>\n",
              "      <td>3918661</td>\n",
              "    </tr>\n",
              "    <tr>\n",
              "      <th>11</th>\n",
              "      <td>차은우</td>\n",
              "      <td>아스트로</td>\n",
              "      <td>판타지오</td>\n",
              "      <td>남자</td>\n",
              "      <td>1997-03-30</td>\n",
              "      <td>183.0</td>\n",
              "      <td>B</td>\n",
              "      <td>3506027</td>\n",
              "    </tr>\n",
              "    <tr>\n",
              "      <th>12</th>\n",
              "      <td>백호</td>\n",
              "      <td>뉴이스트</td>\n",
              "      <td>플레디스</td>\n",
              "      <td>남자</td>\n",
              "      <td>1995-07-21</td>\n",
              "      <td>175.0</td>\n",
              "      <td>AB</td>\n",
              "      <td>3301654</td>\n",
              "    </tr>\n",
              "    <tr>\n",
              "      <th>13</th>\n",
              "      <td>JR</td>\n",
              "      <td>뉴이스트</td>\n",
              "      <td>플레디스</td>\n",
              "      <td>남자</td>\n",
              "      <td>1995-06-08</td>\n",
              "      <td>176.0</td>\n",
              "      <td>O</td>\n",
              "      <td>3274137</td>\n",
              "    </tr>\n",
              "    <tr>\n",
              "      <th>14</th>\n",
              "      <td>슈가</td>\n",
              "      <td>방탄소년단</td>\n",
              "      <td>빅히트</td>\n",
              "      <td>남자</td>\n",
              "      <td>1993-03-09</td>\n",
              "      <td>174.0</td>\n",
              "      <td>O</td>\n",
              "      <td>2925442</td>\n",
              "    </tr>\n",
              "  </tbody>\n",
              "</table>\n",
              "</div>"
            ],
            "text/plain": [
              "      이름     그룹      소속사  성별       생년월일      키 혈액형   브랜드평판지수\n",
              "0     지민  방탄소년단      빅히트  남자 1995-10-13  173.6   A  10523260\n",
              "1   지드래곤     빅뱅       YG  남자 1988-08-18  177.0   A   9916947\n",
              "2   강다니엘    NaN      커넥트  남자 1996-12-10  180.0   A   8273745\n",
              "3      뷔  방탄소년단      빅히트  남자 1995-12-30  178.0  AB   8073501\n",
              "4     화사    마마무      RBW  여자 1995-07-23  162.1   A   7650928\n",
              "5     정국  방탄소년단      빅히트  남자 1997-09-01  178.0   A   5208335\n",
              "6     민현   뉴이스트     플레디스  남자 1995-08-09  182.3   O   4989792\n",
              "7     소연    아이들       큐브  여자 1998-08-26    NaN   B   4668615\n",
              "8      진  방탄소년단      빅히트  남자 1992-12-04  179.2   O   4570308\n",
              "9    하성운     핫샷  스타크루이엔티  남자 1994-03-22  167.1   A   4036489\n",
              "10    태연   소녀시대       SM  여자 1989-03-09    NaN   A   3918661\n",
              "11   차은우   아스트로     판타지오  남자 1997-03-30  183.0   B   3506027\n",
              "12    백호   뉴이스트     플레디스  남자 1995-07-21  175.0  AB   3301654\n",
              "13    JR   뉴이스트     플레디스  남자 1995-06-08  176.0   O   3274137\n",
              "14    슈가  방탄소년단      빅히트  남자 1993-03-09  174.0   O   2925442"
            ]
          },
          "execution_count": 4,
          "metadata": {},
          "output_type": "execute_result"
        }
      ],
      "source": [
        "pd.read_excel(\"/Users/wonguko/Desktop/서비스기획/파이썬 올인원/02. Part1.[파이썬 필수 스킬] 데이터분석의 시작, 전처리 라이브러리/data/korean-idol.xlsx\")\n"
      ]
    },
    {
      "cell_type": "markdown",
      "metadata": {
        "colab_type": "text",
        "id": "V-yAafddvp7v"
      },
      "source": [
        "## 1. 엑셀 파일 읽어오기"
      ]
    },
    {
      "cell_type": "markdown",
      "metadata": {
        "colab_type": "text",
        "id": "J6E3xJ1uzGHT"
      },
      "source": [
        "엑셀 파일을 읽어 올 때는 **read_excel()** 함수를 사용합니다."
      ]
    },
    {
      "cell_type": "code",
      "execution_count": null,
      "metadata": {
        "colab": {},
        "colab_type": "code",
        "id": "zH3HQdBGvyll"
      },
      "outputs": [],
      "source": [
        "from google.colab import drive\n",
        "drive.mount('/content/drive')"
      ]
    },
    {
      "cell_type": "markdown",
      "metadata": {
        "colab_type": "text",
        "id": "jmtEJZ3Wpwhi"
      },
      "source": []
    },
    {
      "cell_type": "code",
      "execution_count": null,
      "metadata": {
        "colab": {},
        "colab_type": "code",
        "id": "_Rr5-iNHv7oW"
      },
      "outputs": [],
      "source": [
        "filename = '파일 경로 붙혀넣기'"
      ]
    },
    {
      "cell_type": "code",
      "execution_count": null,
      "metadata": {
        "colab": {},
        "colab_type": "code",
        "id": "z-TnzkMwv7FN"
      },
      "outputs": [],
      "source": [
        "filename = '/content/drive/My Drive/01_fastcampus/ch04-pandas/data/korean-idol.xlsx'"
      ]
    },
    {
      "cell_type": "code",
      "execution_count": null,
      "metadata": {
        "colab": {},
        "colab_type": "code",
        "id": "FwXgFPgevsYt"
      },
      "outputs": [],
      "source": [
        "pd.read_excel(filename)"
      ]
    }
  ],
  "metadata": {
    "colab": {
      "collapsed_sections": [],
      "name": "ch01-part04-excel파일-읽어오기-해설",
      "provenance": []
    },
    "kernelspec": {
      "display_name": "Python 3",
      "name": "python3"
    },
    "language_info": {
      "codemirror_mode": {
        "name": "ipython",
        "version": 3
      },
      "file_extension": ".py",
      "mimetype": "text/x-python",
      "name": "python",
      "nbconvert_exporter": "python",
      "pygments_lexer": "ipython3",
      "version": "3.8.5"
    }
  },
  "nbformat": 4,
  "nbformat_minor": 0
}
